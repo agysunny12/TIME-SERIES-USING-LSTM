{
  "cells": [
    {
      "cell_type": "code",
      "execution_count": 1,
      "id": "d1b8caf1",
      "metadata": {
        "id": "d1b8caf1"
      },
      "outputs": [],
      "source": [
        "import pandas as pd\n",
        "import numpy as np\n",
        "import matplotlib.pyplot as plt\n",
        "%matplotlib inline\n",
        "import warnings\n",
        "warnings.filterwarnings('ignore')\n",
        "import tensorflow as tf\n",
        "from tensorflow.keras.preprocessing.sequence import TimeseriesGenerator\n",
        "from tensorflow.keras.models import Sequential\n",
        "from tensorflow.keras.layers import Dense\n",
        "from tensorflow.keras.layers import LSTM"
      ]
    },
    {
      "cell_type": "code",
      "source": [
        "from google.colab import drive\n",
        "drive.mount('/content/drive')"
      ],
      "metadata": {
        "colab": {
          "base_uri": "https://localhost:8080/"
        },
        "id": "W5aS6Pl-cO6-",
        "outputId": "11ebf825-3033-4fd0-a00b-77c00c349c3a"
      },
      "id": "W5aS6Pl-cO6-",
      "execution_count": 2,
      "outputs": [
        {
          "output_type": "stream",
          "name": "stdout",
          "text": [
            "Mounted at /content/drive\n"
          ]
        }
      ]
    },
    {
      "cell_type": "code",
      "execution_count": 3,
      "id": "920c057c",
      "metadata": {
        "colab": {
          "base_uri": "https://localhost:8080/",
          "height": 455
        },
        "id": "920c057c",
        "outputId": "901aabad-42e4-4ca5-8bc3-26c5f42b1de8"
      },
      "outputs": [
        {
          "output_type": "execute_result",
          "data": {
            "text/plain": [
              "         Thousands of Passengers\n",
              "Month                           \n",
              "1949-01                      112\n",
              "1949-02                      118\n",
              "1949-03                      132\n",
              "1949-04                      129\n",
              "1949-05                      121\n",
              "...                          ...\n",
              "1960-08                      606\n",
              "1960-09                      508\n",
              "1960-10                      461\n",
              "1960-11                      390\n",
              "1960-12                      432\n",
              "\n",
              "[144 rows x 1 columns]"
            ],
            "text/html": [
              "\n",
              "  <div id=\"df-c8b95246-3659-422e-8d83-0970077efaf8\">\n",
              "    <div class=\"colab-df-container\">\n",
              "      <div>\n",
              "<style scoped>\n",
              "    .dataframe tbody tr th:only-of-type {\n",
              "        vertical-align: middle;\n",
              "    }\n",
              "\n",
              "    .dataframe tbody tr th {\n",
              "        vertical-align: top;\n",
              "    }\n",
              "\n",
              "    .dataframe thead th {\n",
              "        text-align: right;\n",
              "    }\n",
              "</style>\n",
              "<table border=\"1\" class=\"dataframe\">\n",
              "  <thead>\n",
              "    <tr style=\"text-align: right;\">\n",
              "      <th></th>\n",
              "      <th>Thousands of Passengers</th>\n",
              "    </tr>\n",
              "    <tr>\n",
              "      <th>Month</th>\n",
              "      <th></th>\n",
              "    </tr>\n",
              "  </thead>\n",
              "  <tbody>\n",
              "    <tr>\n",
              "      <th>1949-01</th>\n",
              "      <td>112</td>\n",
              "    </tr>\n",
              "    <tr>\n",
              "      <th>1949-02</th>\n",
              "      <td>118</td>\n",
              "    </tr>\n",
              "    <tr>\n",
              "      <th>1949-03</th>\n",
              "      <td>132</td>\n",
              "    </tr>\n",
              "    <tr>\n",
              "      <th>1949-04</th>\n",
              "      <td>129</td>\n",
              "    </tr>\n",
              "    <tr>\n",
              "      <th>1949-05</th>\n",
              "      <td>121</td>\n",
              "    </tr>\n",
              "    <tr>\n",
              "      <th>...</th>\n",
              "      <td>...</td>\n",
              "    </tr>\n",
              "    <tr>\n",
              "      <th>1960-08</th>\n",
              "      <td>606</td>\n",
              "    </tr>\n",
              "    <tr>\n",
              "      <th>1960-09</th>\n",
              "      <td>508</td>\n",
              "    </tr>\n",
              "    <tr>\n",
              "      <th>1960-10</th>\n",
              "      <td>461</td>\n",
              "    </tr>\n",
              "    <tr>\n",
              "      <th>1960-11</th>\n",
              "      <td>390</td>\n",
              "    </tr>\n",
              "    <tr>\n",
              "      <th>1960-12</th>\n",
              "      <td>432</td>\n",
              "    </tr>\n",
              "  </tbody>\n",
              "</table>\n",
              "<p>144 rows × 1 columns</p>\n",
              "</div>\n",
              "      <button class=\"colab-df-convert\" onclick=\"convertToInteractive('df-c8b95246-3659-422e-8d83-0970077efaf8')\"\n",
              "              title=\"Convert this dataframe to an interactive table.\"\n",
              "              style=\"display:none;\">\n",
              "        \n",
              "  <svg xmlns=\"http://www.w3.org/2000/svg\" height=\"24px\"viewBox=\"0 0 24 24\"\n",
              "       width=\"24px\">\n",
              "    <path d=\"M0 0h24v24H0V0z\" fill=\"none\"/>\n",
              "    <path d=\"M18.56 5.44l.94 2.06.94-2.06 2.06-.94-2.06-.94-.94-2.06-.94 2.06-2.06.94zm-11 1L8.5 8.5l.94-2.06 2.06-.94-2.06-.94L8.5 2.5l-.94 2.06-2.06.94zm10 10l.94 2.06.94-2.06 2.06-.94-2.06-.94-.94-2.06-.94 2.06-2.06.94z\"/><path d=\"M17.41 7.96l-1.37-1.37c-.4-.4-.92-.59-1.43-.59-.52 0-1.04.2-1.43.59L10.3 9.45l-7.72 7.72c-.78.78-.78 2.05 0 2.83L4 21.41c.39.39.9.59 1.41.59.51 0 1.02-.2 1.41-.59l7.78-7.78 2.81-2.81c.8-.78.8-2.07 0-2.86zM5.41 20L4 18.59l7.72-7.72 1.47 1.35L5.41 20z\"/>\n",
              "  </svg>\n",
              "      </button>\n",
              "      \n",
              "  <style>\n",
              "    .colab-df-container {\n",
              "      display:flex;\n",
              "      flex-wrap:wrap;\n",
              "      gap: 12px;\n",
              "    }\n",
              "\n",
              "    .colab-df-convert {\n",
              "      background-color: #E8F0FE;\n",
              "      border: none;\n",
              "      border-radius: 50%;\n",
              "      cursor: pointer;\n",
              "      display: none;\n",
              "      fill: #1967D2;\n",
              "      height: 32px;\n",
              "      padding: 0 0 0 0;\n",
              "      width: 32px;\n",
              "    }\n",
              "\n",
              "    .colab-df-convert:hover {\n",
              "      background-color: #E2EBFA;\n",
              "      box-shadow: 0px 1px 2px rgba(60, 64, 67, 0.3), 0px 1px 3px 1px rgba(60, 64, 67, 0.15);\n",
              "      fill: #174EA6;\n",
              "    }\n",
              "\n",
              "    [theme=dark] .colab-df-convert {\n",
              "      background-color: #3B4455;\n",
              "      fill: #D2E3FC;\n",
              "    }\n",
              "\n",
              "    [theme=dark] .colab-df-convert:hover {\n",
              "      background-color: #434B5C;\n",
              "      box-shadow: 0px 1px 3px 1px rgba(0, 0, 0, 0.15);\n",
              "      filter: drop-shadow(0px 1px 2px rgba(0, 0, 0, 0.3));\n",
              "      fill: #FFFFFF;\n",
              "    }\n",
              "  </style>\n",
              "\n",
              "      <script>\n",
              "        const buttonEl =\n",
              "          document.querySelector('#df-c8b95246-3659-422e-8d83-0970077efaf8 button.colab-df-convert');\n",
              "        buttonEl.style.display =\n",
              "          google.colab.kernel.accessAllowed ? 'block' : 'none';\n",
              "\n",
              "        async function convertToInteractive(key) {\n",
              "          const element = document.querySelector('#df-c8b95246-3659-422e-8d83-0970077efaf8');\n",
              "          const dataTable =\n",
              "            await google.colab.kernel.invokeFunction('convertToInteractive',\n",
              "                                                     [key], {});\n",
              "          if (!dataTable) return;\n",
              "\n",
              "          const docLinkHtml = 'Like what you see? Visit the ' +\n",
              "            '<a target=\"_blank\" href=https://colab.research.google.com/notebooks/data_table.ipynb>data table notebook</a>'\n",
              "            + ' to learn more about interactive tables.';\n",
              "          element.innerHTML = '';\n",
              "          dataTable['output_type'] = 'display_data';\n",
              "          await google.colab.output.renderOutput(dataTable, element);\n",
              "          const docLink = document.createElement('div');\n",
              "          docLink.innerHTML = docLinkHtml;\n",
              "          element.appendChild(docLink);\n",
              "        }\n",
              "      </script>\n",
              "    </div>\n",
              "  </div>\n",
              "  "
            ]
          },
          "metadata": {},
          "execution_count": 3
        }
      ],
      "source": [
        "df=pd.read_csv('/content/airline_passengers.csv',index_col='Month')\n",
        "\n",
        "df"
      ]
    },
    {
      "cell_type": "code",
      "execution_count": 4,
      "id": "de3daf28",
      "metadata": {
        "id": "de3daf28"
      },
      "outputs": [],
      "source": [
        "from sklearn.preprocessing import MinMaxScaler\n",
        "train=df[:132]\n",
        "test=df[132:]\n",
        "scaler=MinMaxScaler()\n",
        "scaled_train=scaler.fit_transform(train)\n",
        "scaled_test=scaler.transform(test)"
      ]
    },
    {
      "cell_type": "code",
      "execution_count": 5,
      "id": "521e9a55",
      "metadata": {
        "id": "521e9a55"
      },
      "outputs": [],
      "source": [
        "n_input=12\n",
        "n_features=1"
      ]
    },
    {
      "cell_type": "code",
      "execution_count": 6,
      "id": "46cc076e",
      "metadata": {
        "id": "46cc076e"
      },
      "outputs": [],
      "source": [
        "train_generator=TimeseriesGenerator(scaled_train,\n",
        "                                     scaled_train,\n",
        "                                      n_input,\n",
        "                                      batch_size=1)"
      ]
    },
    {
      "cell_type": "code",
      "execution_count": 7,
      "id": "9f93d7b9",
      "metadata": {
        "id": "9f93d7b9"
      },
      "outputs": [],
      "source": [
        "model=Sequential()\n",
        "model.add(LSTM(100,activation='relu',input_shape=(n_input,n_features),return_sequences=True))\n",
        "model.add(LSTM(50,activation='relu',return_sequences=True))\n",
        "model.add(LSTM(10,activation='relu'))\n",
        "model.add(Dense(1))"
      ]
    },
    {
      "cell_type": "code",
      "execution_count": 8,
      "id": "09dc0f99",
      "metadata": {
        "colab": {
          "base_uri": "https://localhost:8080/"
        },
        "id": "09dc0f99",
        "outputId": "08276c46-c466-467d-c9ef-bac5127bb7e0"
      },
      "outputs": [
        {
          "output_type": "stream",
          "name": "stdout",
          "text": [
            "Model: \"sequential\"\n",
            "_________________________________________________________________\n",
            " Layer (type)                Output Shape              Param #   \n",
            "=================================================================\n",
            " lstm (LSTM)                 (None, 12, 100)           40800     \n",
            "                                                                 \n",
            " lstm_1 (LSTM)               (None, 12, 50)            30200     \n",
            "                                                                 \n",
            " lstm_2 (LSTM)               (None, 10)                2440      \n",
            "                                                                 \n",
            " dense (Dense)               (None, 1)                 11        \n",
            "                                                                 \n",
            "=================================================================\n",
            "Total params: 73,451\n",
            "Trainable params: 73,451\n",
            "Non-trainable params: 0\n",
            "_________________________________________________________________\n"
          ]
        }
      ],
      "source": [
        "model.compile(optimizer='adam',loss='mse')\n",
        "model.summary()"
      ]
    },
    {
      "cell_type": "code",
      "execution_count": 9,
      "id": "b3181dbd",
      "metadata": {
        "colab": {
          "base_uri": "https://localhost:8080/"
        },
        "id": "b3181dbd",
        "outputId": "bec47b7b-eaf2-47bc-ebbd-694a66ac0e82"
      },
      "outputs": [
        {
          "output_type": "stream",
          "name": "stdout",
          "text": [
            "Epoch 1/20\n",
            "120/120 [==============================] - 6s 16ms/step - loss: 0.0536\n",
            "Epoch 2/20\n",
            "120/120 [==============================] - 2s 15ms/step - loss: 0.0132\n",
            "Epoch 3/20\n",
            "120/120 [==============================] - 2s 16ms/step - loss: 0.0114\n",
            "Epoch 4/20\n",
            "120/120 [==============================] - 2s 16ms/step - loss: 0.0122\n",
            "Epoch 5/20\n",
            "120/120 [==============================] - 2s 16ms/step - loss: 0.0109\n",
            "Epoch 6/20\n",
            "120/120 [==============================] - 2s 16ms/step - loss: 0.0121\n",
            "Epoch 7/20\n",
            "120/120 [==============================] - 2s 16ms/step - loss: 0.0090\n",
            "Epoch 8/20\n",
            "120/120 [==============================] - 2s 17ms/step - loss: 0.0093\n",
            "Epoch 9/20\n",
            "120/120 [==============================] - 2s 16ms/step - loss: 0.0096\n",
            "Epoch 10/20\n",
            "120/120 [==============================] - 2s 16ms/step - loss: 0.0079\n",
            "Epoch 11/20\n",
            "120/120 [==============================] - 2s 16ms/step - loss: 0.0097\n",
            "Epoch 12/20\n",
            "120/120 [==============================] - 2s 16ms/step - loss: 0.0087\n",
            "Epoch 13/20\n",
            "120/120 [==============================] - 2s 16ms/step - loss: 0.0073\n",
            "Epoch 14/20\n",
            "120/120 [==============================] - 2s 16ms/step - loss: 0.0083\n",
            "Epoch 15/20\n",
            "120/120 [==============================] - 2s 16ms/step - loss: 0.0062\n",
            "Epoch 16/20\n",
            "120/120 [==============================] - 2s 16ms/step - loss: 0.0055\n",
            "Epoch 17/20\n",
            "120/120 [==============================] - 2s 16ms/step - loss: 0.0054\n",
            "Epoch 18/20\n",
            "120/120 [==============================] - 2s 17ms/step - loss: 0.0045\n",
            "Epoch 19/20\n",
            "120/120 [==============================] - 2s 16ms/step - loss: 0.0058\n",
            "Epoch 20/20\n",
            "120/120 [==============================] - 2s 16ms/step - loss: 0.0043\n"
          ]
        },
        {
          "output_type": "execute_result",
          "data": {
            "text/plain": [
              "<keras.callbacks.History at 0x7fd95b359d90>"
            ]
          },
          "metadata": {},
          "execution_count": 9
        }
      ],
      "source": [
        "model.fit(train_generator,epochs=20)"
      ]
    },
    {
      "cell_type": "code",
      "execution_count": 10,
      "id": "a023e3be",
      "metadata": {
        "colab": {
          "base_uri": "https://localhost:8080/"
        },
        "id": "a023e3be",
        "outputId": "bfcbe9fe-01ae-49e5-dadb-d5c5e7e3a3e8"
      },
      "outputs": [
        {
          "output_type": "stream",
          "name": "stdout",
          "text": [
            "1/1 [==============================] - 0s 463ms/step\n",
            "1/1 [==============================] - 0s 22ms/step\n",
            "1/1 [==============================] - 0s 28ms/step\n",
            "1/1 [==============================] - 0s 20ms/step\n",
            "1/1 [==============================] - 0s 19ms/step\n",
            "1/1 [==============================] - 0s 19ms/step\n",
            "1/1 [==============================] - 0s 22ms/step\n",
            "1/1 [==============================] - 0s 18ms/step\n",
            "1/1 [==============================] - 0s 20ms/step\n",
            "1/1 [==============================] - 0s 27ms/step\n",
            "1/1 [==============================] - 0s 20ms/step\n",
            "1/1 [==============================] - 0s 19ms/step\n"
          ]
        }
      ],
      "source": [
        "test_predictions = []\n",
        "#Select last n_input values from the train data\n",
        "first_eval_batch = scaled_train[-n_input:]\n",
        "#reshape the data into LSTM required (#batch,#timesteps,#features)\n",
        "current_batch = first_eval_batch.reshape((1, n_input, n_features))\n",
        "for i in range(len(test)):\n",
        "# get prediction, grab the exact number using the [0]\n",
        "  pred = model.predict(current_batch)[0]\n",
        "# Add this prediction to the list\n",
        "  test_predictions.append(pred)\n",
        "# The most critical part, update the (#batch,#timesteps,#features\n",
        "# using np.append(\n",
        "# current_batch[:        ,1:   ,:] ---------> read this as\n",
        "# current_batch[no_change,1:end,no_change]\n",
        "# (Do note the second part has the timesteps)\n",
        "# [[pred]] need the double brackets as current_batch is a 3D array\n",
        "# axis=1, remember we need to add to the second part i.e. 1st axis\n",
        "  current_batch = np.append(current_batch[:,1:,:],[[pred]],axis=1)"
      ]
    },
    {
      "cell_type": "code",
      "execution_count": 11,
      "id": "50c10668",
      "metadata": {
        "colab": {
          "base_uri": "https://localhost:8080/"
        },
        "id": "50c10668",
        "outputId": "8de5a732-cd25-4c9b-bfe8-865d40e8455b"
      },
      "outputs": [
        {
          "output_type": "execute_result",
          "data": {
            "text/plain": [
              "[array([0.75916344], dtype=float32),\n",
              " array([0.7948391], dtype=float32),\n",
              " array([0.88553494], dtype=float32),\n",
              " array([0.90374565], dtype=float32),\n",
              " array([0.9934753], dtype=float32),\n",
              " array([1.0770689], dtype=float32),\n",
              " array([1.1064439], dtype=float32),\n",
              " array([1.0739608], dtype=float32),\n",
              " array([0.96318054], dtype=float32),\n",
              " array([0.8658874], dtype=float32),\n",
              " array([0.8559094], dtype=float32),\n",
              " array([0.9597105], dtype=float32)]"
            ]
          },
          "metadata": {},
          "execution_count": 11
        }
      ],
      "source": [
        "test_predictions"
      ]
    },
    {
      "cell_type": "code",
      "execution_count": 12,
      "id": "937a547f",
      "metadata": {
        "colab": {
          "base_uri": "https://localhost:8080/"
        },
        "id": "937a547f",
        "outputId": "bd4a6d81-bef5-407d-a959-b7af38f1d73a"
      },
      "outputs": [
        {
          "output_type": "execute_result",
          "data": {
            "text/plain": [
              "array([[449.41936487],\n",
              "       [465.65178329],\n",
              "       [506.91839868],\n",
              "       [515.20427132],\n",
              "       [556.03126967],\n",
              "       [594.06636083],\n",
              "       [607.4319663 ],\n",
              "       [592.6521554 ],\n",
              "       [542.24714661],\n",
              "       [497.97876859],\n",
              "       [493.43878025],\n",
              "       [540.66826785]])"
            ]
          },
          "metadata": {},
          "execution_count": 12
        }
      ],
      "source": [
        "actual_predictions = scaler.inverse_transform(test_predictions)\n",
        "actual_predictions"
      ]
    },
    {
      "cell_type": "code",
      "execution_count": 13,
      "id": "ed090ce3",
      "metadata": {
        "colab": {
          "base_uri": "https://localhost:8080/",
          "height": 497
        },
        "id": "ed090ce3",
        "outputId": "8c142429-362e-4d78-aefc-b15e78b5962c"
      },
      "outputs": [
        {
          "output_type": "display_data",
          "data": {
            "text/plain": [
              "<Figure size 864x576 with 1 Axes>"
            ],
            "image/png": "[encoded data removed]"
          },
          "metadata": {
            "needs_background": "light"
          }
        }
      ],
      "source": [
        "test['Predictions'] = actual_predictions\n",
        "test.plot(figsize=(12,8));"
      ]
    },
    {
      "cell_type": "code",
      "execution_count": 13,
      "id": "da6c71eb",
      "metadata": {
        "id": "da6c71eb"
      },
      "outputs": [],
      "source": []
    }
  ],
  "metadata": {
    "kernelspec": {
      "display_name": "Python 3 (ipykernel)",
      "language": "python",
      "name": "python3"
    },
    "language_info": {
      "codemirror_mode": {
        "name": "ipython",
        "version": 3
      },
      "file_extension": ".py",
      "mimetype": "text/x-python",
      "name": "python",
      "nbconvert_exporter": "python",
      "pygments_lexer": "ipython3",
      "version": "3.9.7"
    },
    "colab": {
      "provenance": []
    }
  },
  "nbformat": 4,
  "nbformat_minor": 5
}